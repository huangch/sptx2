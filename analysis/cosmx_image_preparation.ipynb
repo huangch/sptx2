{
 "cells": [
  {
   "cell_type": "code",
   "execution_count": 2,
   "id": "7e8fe582-f162-423e-ba5e-18be810b5d0b",
   "metadata": {},
   "outputs": [
    {
     "name": "stderr",
     "output_type": "stream",
     "text": [
      "2023-04-06 22:24:43.141593: I tensorflow/core/platform/cpu_feature_guard.cc:182] This TensorFlow binary is optimized to use available CPU instructions in performance-critical operations.\n",
      "To enable the following instructions: AVX2 FMA, in other operations, rebuild TensorFlow with the appropriate compiler flags.\n",
      "2023-04-06 22:24:44.155730: W tensorflow/compiler/tf2tensorrt/utils/py_utils.cc:38] TF-TRT Warning: Could not find TensorRT\n"
     ]
    },
    {
     "name": "stdout",
     "output_type": "stream",
     "text": [
      "scanpy==1.9.3 anndata==0.8.0 umap==0.5.3 numpy==1.22.4 scipy==1.9.1 pandas==1.5.3 scikit-learn==1.2.2 statsmodels==0.13.5 python-igraph==0.10.4 pynndescent==0.5.8\n"
     ]
    }
   ],
   "source": [
    "import scanpy as sc\n",
    "import squidpy as sq\n",
    "import numpy as np\n",
    "import matplotlib.pyplot as plt\n",
    "import seaborn as sns\n",
    "from pathlib import Path\n",
    "from PIL import Image\n",
    "import pandas as pd\n",
    "from tqdm import tqdm\n",
    "import os\n",
    "import glob\n",
    "import tifffile\n",
    "sc.logging.print_header()"
   ]
  },
  {
   "cell_type": "code",
   "execution_count": 4,
   "id": "fd16f48c-b173-40ac-ae30-372d21428128",
   "metadata": {},
   "outputs": [],
   "source": [
    "nanostring_dir = Path().resolve() / \"..\"/\"datasets\"/\"cosmx\"/\"nanostring_data\"\n",
    "sample_dir = nanostring_dir / \"Lung5_Rep2-Flat_files_and_images\"\n"
   ]
  },
  {
   "cell_type": "code",
   "execution_count": 43,
   "id": "0072bbe4-4f80-4b08-a12a-783b02762daa",
   "metadata": {},
   "outputs": [],
   "source": [
    "composite_folder = sample_dir / \"CellComposite\"\n",
    "sample_img_file = glob.glob(str(composite_folder / \"*\"))[0]\n",
    "img = Image.open(sample_img_file)\n",
    "img_width = img.width\n",
    "img_height = img.height"
   ]
  },
  {
   "cell_type": "code",
   "execution_count": 59,
   "id": "12dc738e-5aa5-456c-8c67-6cb6cc8e2784",
   "metadata": {},
   "outputs": [],
   "source": [
    "fov_pos_file = sample_dir / \"Lung5_Rep2_fov_positions_file.csv\"\n",
    "fov_pos_df = pd.read_csv(str(fov_pos_file))\n",
    "\n",
    "tbd = []\n",
    "for i, (r) in enumerate(fov_pos_df.iloc):\n",
    "    img_file = str(composite_folder / \"CellComposite_F{:03.0f}.jpg\".format(r.fov))\n",
    "    if not os.path.exists(img_file):\n",
    "        tbd.append(i)\n",
    "    \n",
    "fov_pos_df.drop(tbd, inplace=True)\n",
    "\n",
    "global_min_x = fov_pos_df.x_global_px.min()\n",
    "global_min_y = fov_pos_df.y_global_px.min()\n",
    "global_max_x = fov_pos_df.x_global_px.max()\n",
    "global_max_y = fov_pos_df.y_global_px.max()\n",
    "global_width = int(0.5+global_max_x-global_min_x+img_width)\n",
    "global_height = int(0.5+global_max_y-global_min_y+img_height)"
   ]
  },
  {
   "cell_type": "code",
   "execution_count": 60,
   "id": "b3f38001-fb5d-4806-ad71-053a1cdcdd9a",
   "metadata": {},
   "outputs": [],
   "source": [
    "buf = np.empty((global_height, global_width, 3), dtype=np.uint8)"
   ]
  },
  {
   "cell_type": "code",
   "execution_count": 62,
   "id": "b1853cfc-6488-421c-b06e-cd626f1d5051",
   "metadata": {},
   "outputs": [
    {
     "name": "stderr",
     "output_type": "stream",
     "text": [
      "100%|███████████████████████████████████████████| 30/30 [00:03<00:00,  8.58it/s]\n"
     ]
    }
   ],
   "source": [
    "for r in tqdm(fov_pos_df.iloc, total=len(fov_pos_df)):\n",
    "    x = int(r.x_global_px-global_min_x)\n",
    "    y = int(r.y_global_px-global_min_y)\n",
    "    img_file = str(composite_folder / \"CellComposite_F{:03.0f}.jpg\".format(r.fov))\n",
    "    if os.path.exists(img_file): \n",
    "        img = np.asarray(Image.open(img_file), dtype=np.uint8)\n",
    "        img = img[::-1, :, :]\n",
    "    \n",
    "    buf[y:(y+img_height), x:(x+img_width), 0:3] = img[:(img_height), :(img_width), :]"
   ]
  },
  {
   "cell_type": "code",
   "execution_count": 63,
   "id": "0a56594b-2c06-4842-ae5d-931c874b1908",
   "metadata": {},
   "outputs": [],
   "source": [
    "tifffile.imwrite(str(sample_dir / \"wsi_composite.tiff\"), buf, photometric=\"rgb\")"
   ]
  },
  {
   "cell_type": "code",
   "execution_count": null,
   "id": "4d9ec834-11e9-4c24-8767-f9a68e83907d",
   "metadata": {},
   "outputs": [],
   "source": []
  }
 ],
 "metadata": {
  "kernelspec": {
   "display_name": "Python 3 (ipykernel)",
   "language": "python",
   "name": "python3"
  },
  "language_info": {
   "codemirror_mode": {
    "name": "ipython",
    "version": 3
   },
   "file_extension": ".py",
   "mimetype": "text/x-python",
   "name": "python",
   "nbconvert_exporter": "python",
   "pygments_lexer": "ipython3",
   "version": "3.8.16"
  }
 },
 "nbformat": 4,
 "nbformat_minor": 5
}
